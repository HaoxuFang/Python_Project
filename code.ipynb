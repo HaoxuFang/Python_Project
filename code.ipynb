{
 "cells": [
  {
   "cell_type": "code",
   "execution_count": 1,
   "metadata": {
    "pycharm": {
     "name": "#%%\n"
    }
   },
   "outputs": [],
   "source": [
    "import json\n",
    "import scipy\n",
    "import pandas as pd\n",
    "import numpy as np\n",
    "from collections import Counter\n",
    "from openpyxl.utils import get_column_letter"
   ]
  },
  {
   "cell_type": "code",
   "execution_count": 2,
   "metadata": {
    "pycharm": {
     "name": "#%%\n"
    }
   },
   "outputs": [],
   "source": [
    "# 自适应设置Excel列宽：https://laowangblog.com/pandas-openpyxl-excel-column-dimensions.html\n",
    "def to_excel_auto_column_weight(df, writer, sheet_name):\n",
    "    df.to_excel(writer, sheet_name=sheet_name, index=False)\n",
    "    column_widths = df.columns.to_series().apply(lambda x: len(x.encode('GB18030'))).values\n",
    "    max_widths = df.astype(str).applymap(lambda x: len(x.encode('GB18030'))).agg(max).values\n",
    "    widths = np.max([column_widths, max_widths], axis=0)\n",
    "    worksheet = writer.sheets[sheet_name]\n",
    "    for i, width in enumerate(widths, 1):\n",
    "        worksheet.column_dimensions[get_column_letter(i)].width = width + 1\n",
    "\n",
    "\n",
    "def to_excel(df, name, sheet_name):\n",
    "    with pd.ExcelWriter(name) as writer:\n",
    "        to_excel_auto_column_weight(df, writer, sheet_name=sheet_name)"
   ]
  },
  {
   "cell_type": "code",
   "execution_count": 3,
   "metadata": {
    "pycharm": {
     "name": "#%%\n"
    }
   },
   "outputs": [
    {
     "name": "stdout",
     "output_type": "stream",
     "text": [
      "每个Mashup包含的Web API个数已统计完毕，结果已写入Mashup_to_API.xlsx\n",
      "每个Web API被使用的次数已统计完毕，结果已写入API_to_Mashup.xlsx\n"
     ]
    }
   ],
   "source": [
    "mashup2api = {}\n",
    "api2mashup = {}\n",
    "\n",
    "with open(\"data/m-a_edges.csv\", 'r', encoding='utf-8') as f:\n",
    "    lines = f.readlines()\n",
    "    header = 1\n",
    "    for line in lines:\n",
    "        if header:\n",
    "            header = 0\n",
    "            continue\n",
    "        pair = line.split('\\t')\n",
    "        mashup = pair[0]\n",
    "        api = pair[1][:-1]\n",
    "        if mashup not in mashup2api.keys():\n",
    "            mashup2api[mashup] = [api]\n",
    "        else:\n",
    "            mashup2api[mashup].append(api)\n",
    "        if api not in api2mashup.keys():\n",
    "            api2mashup[api] = [mashup]\n",
    "        else:\n",
    "            api2mashup[api].append(mashup)\n",
    "mashup_stat = {\"Mashup名称\": [],\n",
    "               \"使用的API个数\": [],\n",
    "               \"使用的API名称\": []}\n",
    "api_stat = {\"API名称\": [],\n",
    "            \"被Mashup使用的次数\": [],\n",
    "            \"被使用的Mashup名称\": []}\n",
    "for mashup in mashup2api.keys():\n",
    "    mashup_stat[\"Mashup名称\"].append(mashup)\n",
    "    mashup_stat[\"使用的API个数\"].append(len(mashup2api[mashup]))\n",
    "    mashup_stat[\"使用的API名称\"].append(mashup2api[mashup])\n",
    "mashup_df = pd.DataFrame(mashup_stat)\n",
    "to_excel(mashup_df, \"Mashup_to_API.xlsx\", \"Mashup中API的使用情况\")\n",
    "print(\"每个Mashup包含的Web API个数已统计完毕，结果已写入Mashup_to_API.xlsx\")\n",
    "for api in api2mashup.keys():\n",
    "    api_stat[\"API名称\"].append(api)\n",
    "    api_stat[\"被Mashup使用的次数\"].append(len(api2mashup[api]))\n",
    "    api_stat[\"被使用的Mashup名称\"].append(api2mashup[api])\n",
    "api_df = pd.DataFrame(api_stat)\n",
    "to_excel(api_df, \"API_to_Mashup.xlsx\", \"API被Mashup使用的情况\")\n",
    "print(\"每个Web API被使用的次数已统计完毕，结果已写入API_to_Mashup.xlsx\")"
   ]
  },
  {
   "cell_type": "code",
   "execution_count": 4,
   "metadata": {
    "pycharm": {
     "name": "#%%\n"
    }
   },
   "outputs": [
    {
     "name": "stdout",
     "output_type": "stream",
     "text": [
      "Mashup中API的使用情况：\n"
     ]
    },
    {
     "data": {
      "text/plain": "          使用的API个数\ncount  6071.000000\nmean      2.077747\nstd       2.068645\nmin       1.000000\n25%       1.000000\n50%       1.000000\n75%       2.000000\nmax      37.000000",
      "text/html": "<div>\n<style scoped>\n    .dataframe tbody tr th:only-of-type {\n        vertical-align: middle;\n    }\n\n    .dataframe tbody tr th {\n        vertical-align: top;\n    }\n\n    .dataframe thead th {\n        text-align: right;\n    }\n</style>\n<table border=\"1\" class=\"dataframe\">\n  <thead>\n    <tr style=\"text-align: right;\">\n      <th></th>\n      <th>使用的API个数</th>\n    </tr>\n  </thead>\n  <tbody>\n    <tr>\n      <th>count</th>\n      <td>6071.000000</td>\n    </tr>\n    <tr>\n      <th>mean</th>\n      <td>2.077747</td>\n    </tr>\n    <tr>\n      <th>std</th>\n      <td>2.068645</td>\n    </tr>\n    <tr>\n      <th>min</th>\n      <td>1.000000</td>\n    </tr>\n    <tr>\n      <th>25%</th>\n      <td>1.000000</td>\n    </tr>\n    <tr>\n      <th>50%</th>\n      <td>1.000000</td>\n    </tr>\n    <tr>\n      <th>75%</th>\n      <td>2.000000</td>\n    </tr>\n    <tr>\n      <th>max</th>\n      <td>37.000000</td>\n    </tr>\n  </tbody>\n</table>\n</div>"
     },
     "execution_count": 4,
     "metadata": {},
     "output_type": "execute_result"
    }
   ],
   "source": [
    "print(\"Mashup中API的使用情况：\")\n",
    "mashup_df.describe()"
   ]
  },
  {
   "cell_type": "code",
   "execution_count": 5,
   "metadata": {
    "pycharm": {
     "name": "#%%\n"
    }
   },
   "outputs": [
    {
     "name": "stdout",
     "output_type": "stream",
     "text": [
      "API被Mashup使用的情况：\n"
     ]
    },
    {
     "data": {
      "text/plain": "       被Mashup使用的次数\ncount   1508.000000\nmean       8.364721\nstd       60.375508\nmin        1.000000\n25%        1.000000\n50%        1.000000\n75%        4.000000\nmax     1984.000000",
      "text/html": "<div>\n<style scoped>\n    .dataframe tbody tr th:only-of-type {\n        vertical-align: middle;\n    }\n\n    .dataframe tbody tr th {\n        vertical-align: top;\n    }\n\n    .dataframe thead th {\n        text-align: right;\n    }\n</style>\n<table border=\"1\" class=\"dataframe\">\n  <thead>\n    <tr style=\"text-align: right;\">\n      <th></th>\n      <th>被Mashup使用的次数</th>\n    </tr>\n  </thead>\n  <tbody>\n    <tr>\n      <th>count</th>\n      <td>1508.000000</td>\n    </tr>\n    <tr>\n      <th>mean</th>\n      <td>8.364721</td>\n    </tr>\n    <tr>\n      <th>std</th>\n      <td>60.375508</td>\n    </tr>\n    <tr>\n      <th>min</th>\n      <td>1.000000</td>\n    </tr>\n    <tr>\n      <th>25%</th>\n      <td>1.000000</td>\n    </tr>\n    <tr>\n      <th>50%</th>\n      <td>1.000000</td>\n    </tr>\n    <tr>\n      <th>75%</th>\n      <td>4.000000</td>\n    </tr>\n    <tr>\n      <th>max</th>\n      <td>1984.000000</td>\n    </tr>\n  </tbody>\n</table>\n</div>"
     },
     "execution_count": 5,
     "metadata": {},
     "output_type": "execute_result"
    }
   ],
   "source": [
    "print(\"API被Mashup使用的情况：\")\n",
    "api_df.describe()"
   ]
  },
  {
   "cell_type": "code",
   "execution_count": 6,
   "metadata": {
    "pycharm": {
     "name": "#%%\n"
    }
   },
   "outputs": [
    {
     "name": "stdout",
     "output_type": "stream",
     "text": [
      "使用API个数最多的前10个Mashup：\n"
     ]
    },
    {
     "data": {
      "text/plain": "                   Mashup名称  使用的API个数  \\\n0      Mashup: We-Wired Web        37   \n1        Mashup: DoAt (do@)        29   \n2         Mashup: Pixelpipe        28   \n3  Mashup: Sociotoco Search        24   \n4         Mashup: Gawkk.com        23   \n5  Mashup: vplan.com/search        22   \n6         Mashup: coderbits        21   \n7       Mashup: ShipStation        21   \n8    Mashup: ConnectorLocal        21   \n9     Mashup: What's Public        20   \n\n                                            使用的API名称  \n0  [/api/flickr, /api/blogger, /api/delicious-0, ...  \n1  [/api/flickr, /api/amazon-product-advertising,...  \n2  [/api/flickr, /api/blogger, /api/buzznet, /api...  \n3  [/api/flickr, /api/feedburner, /api/blogger, /...  \n4  [/api/bbc, /api/buzznet, /api/yahoo-video-sear...  \n5  [/api/google-search, /api/google-maps, /api/ya...  \n6  [/api/twitter, /api/slideshare, /api/linkedin,...  \n7  [/api/paypal, /api/fedex, /api/amazon-product-...  \n8  [/api/flickr, /api/upcomingorg, /api/eventful,...  \n9  [/api/flickr, /api/43things, /api/typepad, /ap...  ",
      "text/html": "<div>\n<style scoped>\n    .dataframe tbody tr th:only-of-type {\n        vertical-align: middle;\n    }\n\n    .dataframe tbody tr th {\n        vertical-align: top;\n    }\n\n    .dataframe thead th {\n        text-align: right;\n    }\n</style>\n<table border=\"1\" class=\"dataframe\">\n  <thead>\n    <tr style=\"text-align: right;\">\n      <th></th>\n      <th>Mashup名称</th>\n      <th>使用的API个数</th>\n      <th>使用的API名称</th>\n    </tr>\n  </thead>\n  <tbody>\n    <tr>\n      <th>0</th>\n      <td>Mashup: We-Wired Web</td>\n      <td>37</td>\n      <td>[/api/flickr, /api/blogger, /api/delicious-0, ...</td>\n    </tr>\n    <tr>\n      <th>1</th>\n      <td>Mashup: DoAt (do@)</td>\n      <td>29</td>\n      <td>[/api/flickr, /api/amazon-product-advertising,...</td>\n    </tr>\n    <tr>\n      <th>2</th>\n      <td>Mashup: Pixelpipe</td>\n      <td>28</td>\n      <td>[/api/flickr, /api/blogger, /api/buzznet, /api...</td>\n    </tr>\n    <tr>\n      <th>3</th>\n      <td>Mashup: Sociotoco Search</td>\n      <td>24</td>\n      <td>[/api/flickr, /api/feedburner, /api/blogger, /...</td>\n    </tr>\n    <tr>\n      <th>4</th>\n      <td>Mashup: Gawkk.com</td>\n      <td>23</td>\n      <td>[/api/bbc, /api/buzznet, /api/yahoo-video-sear...</td>\n    </tr>\n    <tr>\n      <th>5</th>\n      <td>Mashup: vplan.com/search</td>\n      <td>22</td>\n      <td>[/api/google-search, /api/google-maps, /api/ya...</td>\n    </tr>\n    <tr>\n      <th>6</th>\n      <td>Mashup: coderbits</td>\n      <td>21</td>\n      <td>[/api/twitter, /api/slideshare, /api/linkedin,...</td>\n    </tr>\n    <tr>\n      <th>7</th>\n      <td>Mashup: ShipStation</td>\n      <td>21</td>\n      <td>[/api/paypal, /api/fedex, /api/amazon-product-...</td>\n    </tr>\n    <tr>\n      <th>8</th>\n      <td>Mashup: ConnectorLocal</td>\n      <td>21</td>\n      <td>[/api/flickr, /api/upcomingorg, /api/eventful,...</td>\n    </tr>\n    <tr>\n      <th>9</th>\n      <td>Mashup: What's Public</td>\n      <td>20</td>\n      <td>[/api/flickr, /api/43things, /api/typepad, /ap...</td>\n    </tr>\n  </tbody>\n</table>\n</div>"
     },
     "execution_count": 6,
     "metadata": {},
     "output_type": "execute_result"
    }
   ],
   "source": [
    "print(\"使用API个数最多的前10个Mashup：\")\n",
    "mashup_df.sort_values(by=[\"使用的API个数\"], ascending=False, ignore_index=True)[:10]"
   ]
  },
  {
   "cell_type": "code",
   "execution_count": 7,
   "metadata": {
    "pycharm": {
     "name": "#%%\n"
    }
   },
   "outputs": [
    {
     "name": "stdout",
     "output_type": "stream",
     "text": [
      "被Mashup使用最多的前10个API：\n"
     ]
    },
    {
     "data": {
      "text/plain": "                             API名称  被Mashup使用的次数  \\\n0                 /api/google-maps          1984   \n1                     /api/twitter           671   \n2                     /api/youtube           562   \n3                      /api/flickr           474   \n4                    /api/facebook           381   \n5                      /api/twilio           311   \n6  /api/amazon-product-advertising           304   \n7                      /api/lastfm           181   \n8                        /api/ebay           174   \n9                  /api/twilio-sms           156   \n\n                                        被使用的Mashup名称  \n0  [Mashup: BanksNearMe, Mashup: Poll Position, M...  \n1  [Mashup: Hashtag Suggestions, Mashup: Online B...  \n2  [Mashup: Mixblast, Mashup: Online Basketball C...  \n3  [Mashup: DPhotoIndex, Mashup: Magic Mosaic, Ma...  \n4  [Mashup: Online Basketball Camp, Mashup: Socce...  \n5  [Mashup: The Gifanator, Mashup: UberSignal Cel...  \n6  [Mashup: Penny Parrot, Mashup: Christmas List ...  \n7  [Mashup: Mixblast, Mashup: etrigg.com, Mashup:...  \n8  [Mashup: ecomdash, Mashup: uShip on Cars.com, ...  \n9  [Mashup: Cloud Elements, Mashup: eSignature Ga...  ",
      "text/html": "<div>\n<style scoped>\n    .dataframe tbody tr th:only-of-type {\n        vertical-align: middle;\n    }\n\n    .dataframe tbody tr th {\n        vertical-align: top;\n    }\n\n    .dataframe thead th {\n        text-align: right;\n    }\n</style>\n<table border=\"1\" class=\"dataframe\">\n  <thead>\n    <tr style=\"text-align: right;\">\n      <th></th>\n      <th>API名称</th>\n      <th>被Mashup使用的次数</th>\n      <th>被使用的Mashup名称</th>\n    </tr>\n  </thead>\n  <tbody>\n    <tr>\n      <th>0</th>\n      <td>/api/google-maps</td>\n      <td>1984</td>\n      <td>[Mashup: BanksNearMe, Mashup: Poll Position, M...</td>\n    </tr>\n    <tr>\n      <th>1</th>\n      <td>/api/twitter</td>\n      <td>671</td>\n      <td>[Mashup: Hashtag Suggestions, Mashup: Online B...</td>\n    </tr>\n    <tr>\n      <th>2</th>\n      <td>/api/youtube</td>\n      <td>562</td>\n      <td>[Mashup: Mixblast, Mashup: Online Basketball C...</td>\n    </tr>\n    <tr>\n      <th>3</th>\n      <td>/api/flickr</td>\n      <td>474</td>\n      <td>[Mashup: DPhotoIndex, Mashup: Magic Mosaic, Ma...</td>\n    </tr>\n    <tr>\n      <th>4</th>\n      <td>/api/facebook</td>\n      <td>381</td>\n      <td>[Mashup: Online Basketball Camp, Mashup: Socce...</td>\n    </tr>\n    <tr>\n      <th>5</th>\n      <td>/api/twilio</td>\n      <td>311</td>\n      <td>[Mashup: The Gifanator, Mashup: UberSignal Cel...</td>\n    </tr>\n    <tr>\n      <th>6</th>\n      <td>/api/amazon-product-advertising</td>\n      <td>304</td>\n      <td>[Mashup: Penny Parrot, Mashup: Christmas List ...</td>\n    </tr>\n    <tr>\n      <th>7</th>\n      <td>/api/lastfm</td>\n      <td>181</td>\n      <td>[Mashup: Mixblast, Mashup: etrigg.com, Mashup:...</td>\n    </tr>\n    <tr>\n      <th>8</th>\n      <td>/api/ebay</td>\n      <td>174</td>\n      <td>[Mashup: ecomdash, Mashup: uShip on Cars.com, ...</td>\n    </tr>\n    <tr>\n      <th>9</th>\n      <td>/api/twilio-sms</td>\n      <td>156</td>\n      <td>[Mashup: Cloud Elements, Mashup: eSignature Ga...</td>\n    </tr>\n  </tbody>\n</table>\n</div>"
     },
     "execution_count": 7,
     "metadata": {},
     "output_type": "execute_result"
    }
   ],
   "source": [
    "print(\"被Mashup使用最多的前10个API：\")\n",
    "api_df.sort_values(by=[\"被Mashup使用的次数\"], ascending=False, ignore_index=True)[:10]"
   ]
  },
  {
   "cell_type": "code",
   "execution_count": 8,
   "metadata": {
    "pycharm": {
     "name": "#%%\n"
    }
   },
   "outputs": [
    {
     "name": "stdout",
     "output_type": "stream",
     "text": [
      "每个Web API提供商发布的API个数已统计完毕，结果已写入Web_Published_API.xlsx\n",
      "每个Web API提供商发布的有被Mashup使用的API个数已统计完毕，结果已写入Web_Published_API_Mashup.xlsx\n"
     ]
    }
   ],
   "source": [
    "base_file_name = \"data/raw/accessibility/api_accessibility/api_version_accessbiliby-\"\n",
    "api_endpoint = \"API Endpoint\"\n",
    "homepage = \"API Portal / Home Page\"\n",
    "sub_domain = [\"com\", \"co\", \"ac\", \"org\", \"gov\", \"lk\", \"nc\", \"no\"]\n",
    "\n",
    "web2api = {}\n",
    "web2api_mashup = {}\n",
    "for i in range(1, 6):\n",
    "    with open(base_file_name + str(i) + \".txt\", 'r') as f:\n",
    "        f = json.loads(f.read())\n",
    "        for info in f:\n",
    "            api = info.get(\"from_api\").get(\"url\")[:-1]\n",
    "            provider = \"\"\n",
    "            web_list = info.get(\"visit_status\")\n",
    "            if len(web_list) == 0:\n",
    "                continue\n",
    "            for web in web_list:\n",
    "                if web.get(\"visit_label\") == api_endpoint:\n",
    "                    provider = web.get(\"visit_url\")\n",
    "            if len(provider) == 0:\n",
    "                for web in web_list:\n",
    "                    if web.get(\"visit_label\") == homepage:\n",
    "                        provider = web.get(\"visit_url\")\n",
    "            assert len(provider) != 0\n",
    "            provider = provider.replace(' ', '')\n",
    "            provider = provider.replace(\"https://\", '')\n",
    "            provider = provider.replace(\"http://\", '')\n",
    "            domains = provider.split('/')\n",
    "            provider = '.'.join(domains[0].split('.')[-2:])\n",
    "            if provider.split('.')[0] in sub_domain:\n",
    "                provider = '.'.join(domains[0].split('.')[-3:])\n",
    "            assert len(provider) != 0, print(i, api, domains)\n",
    "            if provider not in web2api:\n",
    "                web2api[provider] = [api]\n",
    "            else:\n",
    "                web2api[provider].append(api)\n",
    "            if api in api2mashup.keys():\n",
    "                if provider not in web2api_mashup:\n",
    "                    web2api_mashup[provider] = [api]\n",
    "                else:\n",
    "                    web2api_mashup[provider].append(api)\n",
    "\n",
    "web_stat = {\"Web URL\": [],\n",
    "            \"发布的API个数\": [],\n",
    "            \"发布的API名称\": []}\n",
    "web_stat_mashup = {\"Web URL\": [],\n",
    "            \"发布的API个数\": [],\n",
    "            \"发布的API名称\": []}\n",
    "for web in web2api.keys():\n",
    "    web2api[web] = list(set(web2api[web]))\n",
    "    web_stat[\"Web URL\"].append(web)\n",
    "    web_stat[\"发布的API个数\"].append(len(web2api[web]))\n",
    "    web_stat[\"发布的API名称\"].append(web2api[web])\n",
    "for web in web2api_mashup.keys():\n",
    "    web2api_mashup[web] = list(set(web2api_mashup[web]))\n",
    "    web_stat_mashup[\"Web URL\"].append(web)\n",
    "    web_stat_mashup[\"发布的API个数\"].append(len(web2api_mashup[web]))\n",
    "    web_stat_mashup[\"发布的API名称\"].append(web2api_mashup[web])\n",
    "\n",
    "web_df = pd.DataFrame(web_stat)\n",
    "to_excel(web_df, \"Web_Published_API.xlsx\", sheet_name=\"Web发布的API情况\")\n",
    "print(\"每个Web API提供商发布的API个数已统计完毕，结果已写入Web_Published_API.xlsx\")\n",
    "\n",
    "web_mashup_df = pd.DataFrame(web_stat_mashup)\n",
    "to_excel(web_mashup_df, \"Web_Published_API_Mashup.xlsx\", sheet_name=\"Web发布的有被Mashup使用的API情况\")\n",
    "print(\"每个Web API提供商发布的有被Mashup使用的API个数已统计完毕，结果已写入Web_Published_API_Mashup.xlsx\")"
   ]
  },
  {
   "cell_type": "code",
   "execution_count": 9,
   "metadata": {
    "pycharm": {
     "name": "#%%\n"
    }
   },
   "outputs": [
    {
     "name": "stdout",
     "output_type": "stream",
     "text": [
      "Web API提供商发布的API情况：\n"
     ]
    },
    {
     "data": {
      "text/plain": "           发布的API个数\ncount  13757.000000\nmean       1.554191\nstd        4.202691\nmin        1.000000\n25%        1.000000\n50%        1.000000\n75%        1.000000\nmax      195.000000",
      "text/html": "<div>\n<style scoped>\n    .dataframe tbody tr th:only-of-type {\n        vertical-align: middle;\n    }\n\n    .dataframe tbody tr th {\n        vertical-align: top;\n    }\n\n    .dataframe thead th {\n        text-align: right;\n    }\n</style>\n<table border=\"1\" class=\"dataframe\">\n  <thead>\n    <tr style=\"text-align: right;\">\n      <th></th>\n      <th>发布的API个数</th>\n    </tr>\n  </thead>\n  <tbody>\n    <tr>\n      <th>count</th>\n      <td>13757.000000</td>\n    </tr>\n    <tr>\n      <th>mean</th>\n      <td>1.554191</td>\n    </tr>\n    <tr>\n      <th>std</th>\n      <td>4.202691</td>\n    </tr>\n    <tr>\n      <th>min</th>\n      <td>1.000000</td>\n    </tr>\n    <tr>\n      <th>25%</th>\n      <td>1.000000</td>\n    </tr>\n    <tr>\n      <th>50%</th>\n      <td>1.000000</td>\n    </tr>\n    <tr>\n      <th>75%</th>\n      <td>1.000000</td>\n    </tr>\n    <tr>\n      <th>max</th>\n      <td>195.000000</td>\n    </tr>\n  </tbody>\n</table>\n</div>"
     },
     "execution_count": 9,
     "metadata": {},
     "output_type": "execute_result"
    }
   ],
   "source": [
    "print(\"Web API提供商发布的API情况：\")\n",
    "web_df.describe()"
   ]
  },
  {
   "cell_type": "code",
   "execution_count": 10,
   "outputs": [
    {
     "name": "stdout",
     "output_type": "stream",
     "text": [
      "发布最多API的前10个提供商：\n"
     ]
    },
    {
     "data": {
      "text/plain": "              Web URL  发布的API个数  \\\n0        intrinio.com       195   \n1         mashape.com       178   \n2      googleapis.com       173   \n3          github.com       159   \n4          google.com       122   \n5  fusionfabric.cloud       102   \n6        rapidapi.com        72   \n7       microsoft.com        67   \n8            nasa.gov        65   \n9           github.io        65   \n\n                                            发布的API名称  \n0  [/api/intrinio-nasdaq-tallinn-prices, /api/int...  \n1  [/api/poker-odds-calculator, /api/bnc-bitcoin-...  \n2  [/api/google-cloud-dataproc, /api/google-civic...  \n3  [/api/github-repository-comments, /api/github-...  \n4  [/api/google-coordinate, /api/google-recaptcha...  \n5  [/api/finastra-banks-information, /api/finastr...  \n6  [/api/unofficial-realtor, /api/unofficial-shaz...  \n7  [/api/microsoft-azure-cognitive-services-speec...  \n8  [/api/nasa-ssdcneos-sentry, /api/nasa-co2-virt...  \n9  [/api/apache-mesos-chronos, /api/viber-webhook...  ",
      "text/html": "<div>\n<style scoped>\n    .dataframe tbody tr th:only-of-type {\n        vertical-align: middle;\n    }\n\n    .dataframe tbody tr th {\n        vertical-align: top;\n    }\n\n    .dataframe thead th {\n        text-align: right;\n    }\n</style>\n<table border=\"1\" class=\"dataframe\">\n  <thead>\n    <tr style=\"text-align: right;\">\n      <th></th>\n      <th>Web URL</th>\n      <th>发布的API个数</th>\n      <th>发布的API名称</th>\n    </tr>\n  </thead>\n  <tbody>\n    <tr>\n      <th>0</th>\n      <td>intrinio.com</td>\n      <td>195</td>\n      <td>[/api/intrinio-nasdaq-tallinn-prices, /api/int...</td>\n    </tr>\n    <tr>\n      <th>1</th>\n      <td>mashape.com</td>\n      <td>178</td>\n      <td>[/api/poker-odds-calculator, /api/bnc-bitcoin-...</td>\n    </tr>\n    <tr>\n      <th>2</th>\n      <td>googleapis.com</td>\n      <td>173</td>\n      <td>[/api/google-cloud-dataproc, /api/google-civic...</td>\n    </tr>\n    <tr>\n      <th>3</th>\n      <td>github.com</td>\n      <td>159</td>\n      <td>[/api/github-repository-comments, /api/github-...</td>\n    </tr>\n    <tr>\n      <th>4</th>\n      <td>google.com</td>\n      <td>122</td>\n      <td>[/api/google-coordinate, /api/google-recaptcha...</td>\n    </tr>\n    <tr>\n      <th>5</th>\n      <td>fusionfabric.cloud</td>\n      <td>102</td>\n      <td>[/api/finastra-banks-information, /api/finastr...</td>\n    </tr>\n    <tr>\n      <th>6</th>\n      <td>rapidapi.com</td>\n      <td>72</td>\n      <td>[/api/unofficial-realtor, /api/unofficial-shaz...</td>\n    </tr>\n    <tr>\n      <th>7</th>\n      <td>microsoft.com</td>\n      <td>67</td>\n      <td>[/api/microsoft-azure-cognitive-services-speec...</td>\n    </tr>\n    <tr>\n      <th>8</th>\n      <td>nasa.gov</td>\n      <td>65</td>\n      <td>[/api/nasa-ssdcneos-sentry, /api/nasa-co2-virt...</td>\n    </tr>\n    <tr>\n      <th>9</th>\n      <td>github.io</td>\n      <td>65</td>\n      <td>[/api/apache-mesos-chronos, /api/viber-webhook...</td>\n    </tr>\n  </tbody>\n</table>\n</div>"
     },
     "execution_count": 10,
     "metadata": {},
     "output_type": "execute_result"
    }
   ],
   "source": [
    "print(\"发布最多API的前10个提供商：\")\n",
    "web_df.sort_values(by=[\"发布的API个数\"], ascending=False, ignore_index=True)[:10]"
   ],
   "metadata": {
    "collapsed": false,
    "pycharm": {
     "name": "#%%\n"
    }
   }
  },
  {
   "cell_type": "code",
   "execution_count": 11,
   "metadata": {
    "pycharm": {
     "name": "#%%\n"
    }
   },
   "outputs": [
    {
     "name": "stdout",
     "output_type": "stream",
     "text": [
      "Web API提供商发布的有被Mashup使用的API情况：\n"
     ]
    },
    {
     "data": {
      "text/plain": "          发布的API个数\ncount  1009.000000\nmean      1.184341\nstd       1.613347\nmin       1.000000\n25%       1.000000\n50%       1.000000\n75%       1.000000\nmax      34.000000",
      "text/html": "<div>\n<style scoped>\n    .dataframe tbody tr th:only-of-type {\n        vertical-align: middle;\n    }\n\n    .dataframe tbody tr th {\n        vertical-align: top;\n    }\n\n    .dataframe thead th {\n        text-align: right;\n    }\n</style>\n<table border=\"1\" class=\"dataframe\">\n  <thead>\n    <tr style=\"text-align: right;\">\n      <th></th>\n      <th>发布的API个数</th>\n    </tr>\n  </thead>\n  <tbody>\n    <tr>\n      <th>count</th>\n      <td>1009.000000</td>\n    </tr>\n    <tr>\n      <th>mean</th>\n      <td>1.184341</td>\n    </tr>\n    <tr>\n      <th>std</th>\n      <td>1.613347</td>\n    </tr>\n    <tr>\n      <th>min</th>\n      <td>1.000000</td>\n    </tr>\n    <tr>\n      <th>25%</th>\n      <td>1.000000</td>\n    </tr>\n    <tr>\n      <th>50%</th>\n      <td>1.000000</td>\n    </tr>\n    <tr>\n      <th>75%</th>\n      <td>1.000000</td>\n    </tr>\n    <tr>\n      <th>max</th>\n      <td>34.000000</td>\n    </tr>\n  </tbody>\n</table>\n</div>"
     },
     "execution_count": 11,
     "metadata": {},
     "output_type": "execute_result"
    }
   ],
   "source": [
    "print(\"Web API提供商发布的有被Mashup使用的API情况：\")\n",
    "web_mashup_df.describe()"
   ]
  },
  {
   "cell_type": "code",
   "execution_count": 12,
   "outputs": [
    {
     "name": "stdout",
     "output_type": "stream",
     "text": [
      "发布最多有被Mashup使用的API的前10个提供商：\n"
     ]
    },
    {
     "data": {
      "text/plain": "          Web URL  发布的API个数                                           发布的API名称\n0  googleapis.com        34  [/api/google-play-developer, /api/google-assis...\n1      google.com        33  [/api/google-openid, /api/google-recaptcha, /a...\n2   yahooapis.com        12  [/api/yahoo-query-language-graphql, /api/yahoo...\n3      amazon.com         9  [/api/amazon-ses, /api/amazon-alexa-skill-voic...\n4     mashape.com         9  [/api/parsebot, /api/rxnlp-cluster-sentences-a...\n5   amazonaws.com         9  [/api/amazon-fulfillment-web-service, /api/ama...\n6   microsoft.com         8  [/api/microsoft-bing, /api/bing-traffic, /api/...\n7       yahoo.com         7  [/api/yahoo-bbauth, /api/yahoo-internet-locati...\n8        ckan.net         5  [/api/ckan-czech-republic, /api/ckan-norway, /...\n9     nytimes.com         5  [/api/new-york-times-newswire, /api/new-york-t...",
      "text/html": "<div>\n<style scoped>\n    .dataframe tbody tr th:only-of-type {\n        vertical-align: middle;\n    }\n\n    .dataframe tbody tr th {\n        vertical-align: top;\n    }\n\n    .dataframe thead th {\n        text-align: right;\n    }\n</style>\n<table border=\"1\" class=\"dataframe\">\n  <thead>\n    <tr style=\"text-align: right;\">\n      <th></th>\n      <th>Web URL</th>\n      <th>发布的API个数</th>\n      <th>发布的API名称</th>\n    </tr>\n  </thead>\n  <tbody>\n    <tr>\n      <th>0</th>\n      <td>googleapis.com</td>\n      <td>34</td>\n      <td>[/api/google-play-developer, /api/google-assis...</td>\n    </tr>\n    <tr>\n      <th>1</th>\n      <td>google.com</td>\n      <td>33</td>\n      <td>[/api/google-openid, /api/google-recaptcha, /a...</td>\n    </tr>\n    <tr>\n      <th>2</th>\n      <td>yahooapis.com</td>\n      <td>12</td>\n      <td>[/api/yahoo-query-language-graphql, /api/yahoo...</td>\n    </tr>\n    <tr>\n      <th>3</th>\n      <td>amazon.com</td>\n      <td>9</td>\n      <td>[/api/amazon-ses, /api/amazon-alexa-skill-voic...</td>\n    </tr>\n    <tr>\n      <th>4</th>\n      <td>mashape.com</td>\n      <td>9</td>\n      <td>[/api/parsebot, /api/rxnlp-cluster-sentences-a...</td>\n    </tr>\n    <tr>\n      <th>5</th>\n      <td>amazonaws.com</td>\n      <td>9</td>\n      <td>[/api/amazon-fulfillment-web-service, /api/ama...</td>\n    </tr>\n    <tr>\n      <th>6</th>\n      <td>microsoft.com</td>\n      <td>8</td>\n      <td>[/api/microsoft-bing, /api/bing-traffic, /api/...</td>\n    </tr>\n    <tr>\n      <th>7</th>\n      <td>yahoo.com</td>\n      <td>7</td>\n      <td>[/api/yahoo-bbauth, /api/yahoo-internet-locati...</td>\n    </tr>\n    <tr>\n      <th>8</th>\n      <td>ckan.net</td>\n      <td>5</td>\n      <td>[/api/ckan-czech-republic, /api/ckan-norway, /...</td>\n    </tr>\n    <tr>\n      <th>9</th>\n      <td>nytimes.com</td>\n      <td>5</td>\n      <td>[/api/new-york-times-newswire, /api/new-york-t...</td>\n    </tr>\n  </tbody>\n</table>\n</div>"
     },
     "execution_count": 12,
     "metadata": {},
     "output_type": "execute_result"
    }
   ],
   "source": [
    "print(\"发布最多有被Mashup使用的API的前10个提供商：\")\n",
    "web_mashup_df.sort_values(by=[\"发布的API个数\"], ascending=False, ignore_index=True)[:10]"
   ],
   "metadata": {
    "collapsed": false,
    "pycharm": {
     "name": "#%%\n"
    }
   }
  },
  {
   "cell_type": "code",
   "execution_count": 13,
   "metadata": {
    "pycharm": {
     "name": "#%%\n"
    }
   },
   "outputs": [
    {
     "name": "stdout",
     "output_type": "stream",
     "text": [
      "每个Mashup的Category与其使用的API的Tag对应情况已统计完毕，结果已写入Mashup_API_Category_Tag.xlsx\n",
      "每个Category与Tag对应情况已统计完毕，结果已写入Category_Tag.xlsx\n"
     ]
    }
   ],
   "source": [
    "cat2tag = {}\n",
    "api2tag = {}\n",
    "api2type = {}\n",
    "cats = []\n",
    "tags = []\n",
    "\n",
    "mashup_api_cat_tag_stat = {\"Mashup名称\": [],\n",
    "                           \"对应Category\": [],\n",
    "                           \"使用API对应的Tag统计\": [],\n",
    "                           \"使用的API\": []}\n",
    "with open(\"data/raw/api_mashup/active_mashups_data.txt\", 'r') as f:\n",
    "    f = json.loads(f.read())\n",
    "    for info in f:\n",
    "        categories = list(set(info.get(\"categories\")))\n",
    "        mashup_api_cat_tag_stat[\"Mashup名称\"].append(info.get(\"title\"))\n",
    "        mashup_api_cat_tag_stat[\"对应Category\"].append(categories)\n",
    "        apis = info.get(\"related_apis\")\n",
    "        api_list = []\n",
    "        tag_list = []\n",
    "        for api in apis:\n",
    "            if not api:\n",
    "                continue\n",
    "            api2type[api.get(\"url\")] = []\n",
    "            api_list.append(api.get(\"url\"))\n",
    "            if len(api.get(\"tags\")) == 0:\n",
    "                api2tag[api.get(\"url\")] = []\n",
    "            for tag in set(api.get(\"tags\")):\n",
    "                tag_list.append(tag)\n",
    "                tags.append(tag)\n",
    "                if api.get(\"url\") not in api2tag.keys():\n",
    "                    api2tag[api.get(\"url\")] = [tag]\n",
    "                else:\n",
    "                    api2tag[api.get(\"url\")].append(tag)\n",
    "            for ver in api.get(\"versions\"):\n",
    "                api2type[api.get(\"url\")].append(ver.get(\"style\"))\n",
    "        for cat in categories:\n",
    "            if cat not in cat2tag:\n",
    "                cat2tag[cat] = [*tag_list]\n",
    "            else:\n",
    "                cat2tag[cat].extend(tag_list)\n",
    "            cats.append(cat)\n",
    "        tag_list = sorted(dict(Counter(tag_list)).items(), key=lambda x:x[1], reverse=True)\n",
    "        mashup_api_cat_tag_stat[\"使用API对应的Tag统计\"].append(tag_list)\n",
    "        mashup_api_cat_tag_stat[\"使用的API\"].append(api_list)\n",
    "\n",
    "for api in api2type.keys():\n",
    "    api2type[api] = set(api2type[api])\n",
    "cats = sorted(dict(Counter(cats)).items(), key=lambda x:x[1], reverse=True)\n",
    "tags = sorted(dict(Counter(tags)).items(), key=lambda x:x[1], reverse=True)\n",
    "\n",
    "cat2tag_stat = {\"Mashup Category\": [],\n",
    "                \"关联API Tag\": []}\n",
    "for cat in cat2tag.keys():\n",
    "    cat2tag[cat] = sorted(dict(Counter(cat2tag[cat])).items(), key=lambda x:x[1], reverse=True)\n",
    "    cat2tag_stat[\"Mashup Category\"].append(cat)\n",
    "    cat2tag_stat[\"关联API Tag\"].append(cat2tag[cat])\n",
    "\n",
    "mashup_cat_tag_df = pd.DataFrame(mashup_api_cat_tag_stat)\n",
    "to_excel(mashup_cat_tag_df, \"Mashup_API_Category_Tag.xlsx\", sheet_name=\"Mashup的Category与使用API的Tag对应情况\")\n",
    "print(\"每个Mashup的Category与其使用的API的Tag对应情况已统计完毕，结果已写入Mashup_API_Category_Tag.xlsx\")\n",
    "\n",
    "cat_tag_df = pd.DataFrame(cat2tag_stat)\n",
    "to_excel(cat_tag_df, \"Category_Tag.xlsx\", sheet_name=\"Category与Tag对应情况\")\n",
    "print(\"每个Category与Tag对应情况已统计完毕，结果已写入Category_Tag.xlsx\")"
   ]
  },
  {
   "cell_type": "code",
   "execution_count": 14,
   "outputs": [
    {
     "name": "stdout",
     "output_type": "stream",
     "text": [
      "Mashup对应最多的五个类别：\n",
      "[('Mapping', 2285), ('Search', 964), ('Social', 944), ('eCommerce', 658), ('Photos', 656)]\n"
     ]
    }
   ],
   "source": [
    "print(\"Mashup对应最多的五个类别：\")\n",
    "print(cats[:5])"
   ],
   "metadata": {
    "collapsed": false,
    "pycharm": {
     "name": "#%%\n"
    }
   }
  },
  {
   "cell_type": "code",
   "execution_count": 15,
   "metadata": {
    "pycharm": {
     "name": "#%%\n"
    }
   },
   "outputs": [
    {
     "name": "stdout",
     "output_type": "stream",
     "text": [
      "API对应最多的五个功能标签：\n",
      "[('Mapping', 3334), ('Viewer', 2393), ('Social', 2236), ('Search', 1411), ('Video', 1297)]\n"
     ]
    }
   ],
   "source": [
    "print(\"API对应最多的五个功能标签：\")\n",
    "print(tags[:5])"
   ]
  },
  {
   "cell_type": "code",
   "execution_count": 16,
   "outputs": [
    {
     "name": "stdout",
     "output_type": "stream",
     "text": [
      "数量前五的Mashup类别相关联的数量最多五个的API功能标签：\n",
      "Mapping [('Mapping', 2823), ('Viewer', 2143), ('Social', 411), ('Search', 286), ('Photos', 275)]\n",
      "Search [('Search', 572), ('Social', 472), ('Mapping', 377), ('eCommerce', 323), ('Video', 304)]\n",
      "Social [('Social', 1077), ('Blogging', 421), ('Webhooks', 380), ('Mapping', 374), ('Photos', 249)]\n",
      "eCommerce [('eCommerce', 756), ('Search', 301), ('Advertising', 264), ('Mapping', 181), ('Auctions', 148)]\n",
      "Photos [('Photos', 605), ('Video', 519), ('Mapping', 340), ('Social', 293), ('Viewer', 228)]\n",
      "Video [('Video', 625), ('Media', 438), ('Social', 218), ('Mapping', 217), ('Search', 214)]\n",
      "Travel [('Mapping', 561), ('Viewer', 405), ('Travel', 103), ('Photos', 96), ('Video', 95)]\n",
      "Music [('Music', 502), ('Video', 245), ('Social', 213), ('Media', 195), ('Search', 102)]\n",
      "Mobile [('Telephony', 340), ('Messaging', 199), ('Webhooks', 174), ('Cloud', 160), ('Mobile', 141)]\n",
      "Messaging [('Telephony', 382), ('Messaging', 268), ('Webhooks', 197), ('Cloud', 189), ('Social', 177)]\n"
     ]
    }
   ],
   "source": [
    "print(\"数量前五的Mashup类别相关联的数量最多五个的API功能标签：\")\n",
    "for cat, _ in cats[:10]:\n",
    "    print(cat, cat2tag[cat][:5])"
   ],
   "metadata": {
    "collapsed": false,
    "pycharm": {
     "name": "#%%\n"
    }
   }
  },
  {
   "cell_type": "code",
   "execution_count": 17,
   "outputs": [
    {
     "name": "stdout",
     "output_type": "stream",
     "text": [
      "API间共同调用次数已统计完毕，结果已写入API_Pair.xlsx\n"
     ]
    }
   ],
   "source": [
    "api_pair = {}\n",
    "for mashup in mashup2api.keys():\n",
    "    if len(mashup2api[mashup]) <= 1:\n",
    "        continue\n",
    "    apis = mashup2api[mashup]\n",
    "    for i in range(len(apis)):\n",
    "        for j in range(i + 1, len(apis)):\n",
    "            pair = [apis[i], apis[j]]\n",
    "            pair = tuple(sorted(pair))\n",
    "            if pair not in api_pair.keys():\n",
    "                api_pair[pair] = 1\n",
    "            else:\n",
    "                api_pair[pair] += 1\n",
    "\n",
    "api_pair = sorted(api_pair.items(), key=lambda x:x[1], reverse=True)\n",
    "api_pair_stat = {\"API-1\": [],\n",
    "                 \"API-2\": [],\n",
    "                 \"共同调用次数\": [],\n",
    "                 \"是否存在相同Tag\": [],\n",
    "                 \"API类型是否相同\": []}\n",
    "for pair, cnt in api_pair:\n",
    "    api_pair_stat[\"API-1\"].append(pair[0])\n",
    "    api_pair_stat[\"API-2\"].append(pair[1])\n",
    "    api_pair_stat[\"共同调用次数\"].append(cnt)\n",
    "    if pair[0] not in api2tag.keys() or pair[1] not in api2tag.keys():\n",
    "        api_pair_stat[\"是否存在相同Tag\"].append(False)\n",
    "    else:\n",
    "        for tag in api2tag[pair[0]]:\n",
    "            if tag in api2tag[pair[1]]:\n",
    "                api_pair_stat[\"是否存在相同Tag\"].append(True)\n",
    "                break\n",
    "        else:\n",
    "            api_pair_stat[\"是否存在相同Tag\"].append(False)\n",
    "    if pair[0] not in api2type.keys() or pair[1] not in api2type.keys():\n",
    "        api_pair_stat[\"API类型是否相同\"].append(False)\n",
    "        continue\n",
    "    for tag in api2type[pair[0]]:\n",
    "        if tag in api2type[pair[1]]:\n",
    "            api_pair_stat[\"API类型是否相同\"].append(True)\n",
    "            break\n",
    "    else:\n",
    "        api_pair_stat[\"API类型是否相同\"].append(False)\n",
    "\n",
    "\n",
    "api_pair_df = pd.DataFrame(api_pair_stat)\n",
    "to_excel(api_pair_df, \"API_Pair.xlsx\", sheet_name=\"API共同调用记录\")\n",
    "print(\"API间共同调用次数已统计完毕，结果已写入API_Pair.xlsx\")"
   ],
   "metadata": {
    "collapsed": false,
    "pycharm": {
     "name": "#%%\n"
    }
   }
  },
  {
   "cell_type": "code",
   "execution_count": 18,
   "outputs": [
    {
     "name": "stdout",
     "output_type": "stream",
     "text": [
      "共同调用次数前十的API Pair：\n"
     ]
    },
    {
     "data": {
      "text/plain": "              API-1             API-2  共同调用次数  是否存在相同Tag  API类型是否相同\n0     /api/facebook      /api/twitter     159       True       True\n1  /api/google-maps      /api/twitter     154      False       True\n2       /api/flickr      /api/youtube     140       True       True\n3       /api/twilio   /api/twilio-sms     140       True       True\n4  /api/google-maps      /api/youtube     132      False       True\n5       /api/flickr  /api/google-maps     132      False       True\n6     /api/facebook  /api/google-maps      97      False       True\n7      /api/twitter      /api/youtube      96      False       True\n8       /api/flickr      /api/twitter      96      False       True\n9       /api/lastfm      /api/youtube      92      False       True",
      "text/html": "<div>\n<style scoped>\n    .dataframe tbody tr th:only-of-type {\n        vertical-align: middle;\n    }\n\n    .dataframe tbody tr th {\n        vertical-align: top;\n    }\n\n    .dataframe thead th {\n        text-align: right;\n    }\n</style>\n<table border=\"1\" class=\"dataframe\">\n  <thead>\n    <tr style=\"text-align: right;\">\n      <th></th>\n      <th>API-1</th>\n      <th>API-2</th>\n      <th>共同调用次数</th>\n      <th>是否存在相同Tag</th>\n      <th>API类型是否相同</th>\n    </tr>\n  </thead>\n  <tbody>\n    <tr>\n      <th>0</th>\n      <td>/api/facebook</td>\n      <td>/api/twitter</td>\n      <td>159</td>\n      <td>True</td>\n      <td>True</td>\n    </tr>\n    <tr>\n      <th>1</th>\n      <td>/api/google-maps</td>\n      <td>/api/twitter</td>\n      <td>154</td>\n      <td>False</td>\n      <td>True</td>\n    </tr>\n    <tr>\n      <th>2</th>\n      <td>/api/flickr</td>\n      <td>/api/youtube</td>\n      <td>140</td>\n      <td>True</td>\n      <td>True</td>\n    </tr>\n    <tr>\n      <th>3</th>\n      <td>/api/twilio</td>\n      <td>/api/twilio-sms</td>\n      <td>140</td>\n      <td>True</td>\n      <td>True</td>\n    </tr>\n    <tr>\n      <th>4</th>\n      <td>/api/google-maps</td>\n      <td>/api/youtube</td>\n      <td>132</td>\n      <td>False</td>\n      <td>True</td>\n    </tr>\n    <tr>\n      <th>5</th>\n      <td>/api/flickr</td>\n      <td>/api/google-maps</td>\n      <td>132</td>\n      <td>False</td>\n      <td>True</td>\n    </tr>\n    <tr>\n      <th>6</th>\n      <td>/api/facebook</td>\n      <td>/api/google-maps</td>\n      <td>97</td>\n      <td>False</td>\n      <td>True</td>\n    </tr>\n    <tr>\n      <th>7</th>\n      <td>/api/twitter</td>\n      <td>/api/youtube</td>\n      <td>96</td>\n      <td>False</td>\n      <td>True</td>\n    </tr>\n    <tr>\n      <th>8</th>\n      <td>/api/flickr</td>\n      <td>/api/twitter</td>\n      <td>96</td>\n      <td>False</td>\n      <td>True</td>\n    </tr>\n    <tr>\n      <th>9</th>\n      <td>/api/lastfm</td>\n      <td>/api/youtube</td>\n      <td>92</td>\n      <td>False</td>\n      <td>True</td>\n    </tr>\n  </tbody>\n</table>\n</div>"
     },
     "execution_count": 18,
     "metadata": {},
     "output_type": "execute_result"
    }
   ],
   "source": [
    "print(\"共同调用次数前十的API Pair：\")\n",
    "api_pair_df.sort_values([\"共同调用次数\"], ascending=False, ignore_index=True)[:10]"
   ],
   "metadata": {
    "collapsed": false,
    "pycharm": {
     "name": "#%%\n"
    }
   }
  },
  {
   "cell_type": "code",
   "execution_count": 19,
   "outputs": [
    {
     "name": "stdout",
     "output_type": "stream",
     "text": [
      "共同调用次数统计结果：\n"
     ]
    },
    {
     "data": {
      "text/plain": "             共同调用次数\ncount  10557.000000\nmean       1.874112\nstd        4.895649\nmin        1.000000\n25%        1.000000\n50%        1.000000\n75%        1.000000\nmax      159.000000",
      "text/html": "<div>\n<style scoped>\n    .dataframe tbody tr th:only-of-type {\n        vertical-align: middle;\n    }\n\n    .dataframe tbody tr th {\n        vertical-align: top;\n    }\n\n    .dataframe thead th {\n        text-align: right;\n    }\n</style>\n<table border=\"1\" class=\"dataframe\">\n  <thead>\n    <tr style=\"text-align: right;\">\n      <th></th>\n      <th>共同调用次数</th>\n    </tr>\n  </thead>\n  <tbody>\n    <tr>\n      <th>count</th>\n      <td>10557.000000</td>\n    </tr>\n    <tr>\n      <th>mean</th>\n      <td>1.874112</td>\n    </tr>\n    <tr>\n      <th>std</th>\n      <td>4.895649</td>\n    </tr>\n    <tr>\n      <th>min</th>\n      <td>1.000000</td>\n    </tr>\n    <tr>\n      <th>25%</th>\n      <td>1.000000</td>\n    </tr>\n    <tr>\n      <th>50%</th>\n      <td>1.000000</td>\n    </tr>\n    <tr>\n      <th>75%</th>\n      <td>1.000000</td>\n    </tr>\n    <tr>\n      <th>max</th>\n      <td>159.000000</td>\n    </tr>\n  </tbody>\n</table>\n</div>"
     },
     "execution_count": 19,
     "metadata": {},
     "output_type": "execute_result"
    }
   ],
   "source": [
    "print(\"共同调用次数统计结果：\")\n",
    "api_pair_df.describe()"
   ],
   "metadata": {
    "collapsed": false,
    "pycharm": {
     "name": "#%%\n"
    }
   }
  },
  {
   "cell_type": "code",
   "execution_count": 20,
   "outputs": [
    {
     "name": "stdout",
     "output_type": "stream",
     "text": [
      "共同调用次数与API对是否存在相同Tag的关系：\n"
     ]
    },
    {
     "data": {
      "text/plain": "             共同调用次数  API类型是否相同\n是否存在相同Tag                     \nFalse      1.792291   0.723645\nTrue       2.060964   0.790669",
      "text/html": "<div>\n<style scoped>\n    .dataframe tbody tr th:only-of-type {\n        vertical-align: middle;\n    }\n\n    .dataframe tbody tr th {\n        vertical-align: top;\n    }\n\n    .dataframe thead th {\n        text-align: right;\n    }\n</style>\n<table border=\"1\" class=\"dataframe\">\n  <thead>\n    <tr style=\"text-align: right;\">\n      <th></th>\n      <th>共同调用次数</th>\n      <th>API类型是否相同</th>\n    </tr>\n    <tr>\n      <th>是否存在相同Tag</th>\n      <th></th>\n      <th></th>\n    </tr>\n  </thead>\n  <tbody>\n    <tr>\n      <th>False</th>\n      <td>1.792291</td>\n      <td>0.723645</td>\n    </tr>\n    <tr>\n      <th>True</th>\n      <td>2.060964</td>\n      <td>0.790669</td>\n    </tr>\n  </tbody>\n</table>\n</div>"
     },
     "execution_count": 20,
     "metadata": {},
     "output_type": "execute_result"
    }
   ],
   "source": [
    "print(\"共同调用次数与API对是否存在相同Tag的关系：\")\n",
    "api_pair_df.groupby(\"是否存在相同Tag\").mean()"
   ],
   "metadata": {
    "collapsed": false,
    "pycharm": {
     "name": "#%%\n"
    }
   }
  },
  {
   "cell_type": "code",
   "execution_count": 21,
   "outputs": [
    {
     "name": "stdout",
     "output_type": "stream",
     "text": [
      "共同调用次数与API对类型是否相同的关系：\n"
     ]
    },
    {
     "data": {
      "text/plain": "             共同调用次数  是否存在相同Tag\nAPI类型是否相同                     \nFalse      1.622872   0.249075\nTrue       1.960535   0.323616",
      "text/html": "<div>\n<style scoped>\n    .dataframe tbody tr th:only-of-type {\n        vertical-align: middle;\n    }\n\n    .dataframe tbody tr th {\n        vertical-align: top;\n    }\n\n    .dataframe thead th {\n        text-align: right;\n    }\n</style>\n<table border=\"1\" class=\"dataframe\">\n  <thead>\n    <tr style=\"text-align: right;\">\n      <th></th>\n      <th>共同调用次数</th>\n      <th>是否存在相同Tag</th>\n    </tr>\n    <tr>\n      <th>API类型是否相同</th>\n      <th></th>\n      <th></th>\n    </tr>\n  </thead>\n  <tbody>\n    <tr>\n      <th>False</th>\n      <td>1.622872</td>\n      <td>0.249075</td>\n    </tr>\n    <tr>\n      <th>True</th>\n      <td>1.960535</td>\n      <td>0.323616</td>\n    </tr>\n  </tbody>\n</table>\n</div>"
     },
     "execution_count": 21,
     "metadata": {},
     "output_type": "execute_result"
    }
   ],
   "source": [
    "print(\"共同调用次数与API对类型是否相同的关系：\")\n",
    "api_pair_df.groupby(\"API类型是否相同\").mean()"
   ],
   "metadata": {
    "collapsed": false,
    "pycharm": {
     "name": "#%%\n"
    }
   }
  },
  {
   "cell_type": "code",
   "execution_count": 22,
   "outputs": [
    {
     "name": "stdout",
     "output_type": "stream",
     "text": [
      "共同调用次数与API对是否存在相同Tag的相关系数：\n"
     ]
    },
    {
     "data": {
      "text/plain": "0.058659641774388094"
     },
     "execution_count": 22,
     "metadata": {},
     "output_type": "execute_result"
    }
   ],
   "source": [
    "print(\"共同调用次数与API对是否存在相同Tag的相关系数：\")\n",
    "api_pair_df[\"共同调用次数\"].corr(api_pair_df[\"是否存在相同Tag\"], method=\"kendall\")"
   ],
   "metadata": {
    "collapsed": false,
    "pycharm": {
     "name": "#%%\n"
    }
   }
  },
  {
   "cell_type": "code",
   "execution_count": 23,
   "outputs": [
    {
     "name": "stdout",
     "output_type": "stream",
     "text": [
      "共同调用次数与API对类型是否相同的相关系数：\n"
     ]
    },
    {
     "data": {
      "text/plain": "0.0013151855658777285"
     },
     "execution_count": 23,
     "metadata": {},
     "output_type": "execute_result"
    }
   ],
   "source": [
    "print(\"共同调用次数与API对类型是否相同的相关系数：\")\n",
    "api_pair_df[\"共同调用次数\"].corr(api_pair_df[\"API类型是否相同\"], method=\"kendall\")"
   ],
   "metadata": {
    "collapsed": false,
    "pycharm": {
     "name": "#%%\n"
    }
   }
  }
 ],
 "metadata": {
  "kernelspec": {
   "display_name": "Python 3 (ipykernel)",
   "language": "python",
   "name": "python3"
  },
  "language_info": {
   "codemirror_mode": {
    "name": "ipython",
    "version": 3
   },
   "file_extension": ".py",
   "mimetype": "text/x-python",
   "name": "python",
   "nbconvert_exporter": "python",
   "pygments_lexer": "ipython3",
   "version": "3.9.7"
  }
 },
 "nbformat": 4,
 "nbformat_minor": 1
}